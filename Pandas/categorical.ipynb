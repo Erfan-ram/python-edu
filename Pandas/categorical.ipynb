{
 "cells": [
  {
   "attachments": {},
   "cell_type": "markdown",
   "metadata": {},
   "source": [
    "some few methodes to convert categorical datas into meani"
   ]
  },
  {
   "cell_type": "code",
   "execution_count": 1,
   "metadata": {},
   "outputs": [],
   "source": [
    "import pandas as pd"
   ]
  },
  {
   "cell_type": "code",
   "execution_count": 3,
   "metadata": {},
   "outputs": [],
   "source": [
    "df=pd.read_csv('Datasets/Housing Prices-train.csv')\n",
    "df=df.select_dtypes(include='object')"
   ]
  },
  {
   "cell_type": "code",
   "execution_count": 9,
   "metadata": {},
   "outputs": [
    {
     "data": {
      "text/plain": [
       "{'MSZoning': array(['RL', 'RM', 'C (all)', 'FV', 'RH'], dtype=object),\n",
       " 'Street': array(['Pave', 'Grvl'], dtype=object),\n",
       " 'Alley': array([nan, 'Grvl', 'Pave'], dtype=object),\n",
       " 'LotShape': array(['Reg', 'IR1', 'IR2', 'IR3'], dtype=object),\n",
       " 'LandContour': array(['Lvl', 'Bnk', 'Low', 'HLS'], dtype=object),\n",
       " 'Utilities': array(['AllPub', 'NoSeWa'], dtype=object),\n",
       " 'LotConfig': array(['Inside', 'FR2', 'Corner', 'CulDSac', 'FR3'], dtype=object),\n",
       " 'LandSlope': array(['Gtl', 'Mod', 'Sev'], dtype=object),\n",
       " 'Neighborhood': array(['CollgCr', 'Veenker', 'Crawfor', 'NoRidge', 'Mitchel', 'Somerst',\n",
       "        'NWAmes', 'OldTown', 'BrkSide', 'Sawyer', 'NridgHt', 'NAmes',\n",
       "        'SawyerW', 'IDOTRR', 'MeadowV', 'Edwards', 'Timber', 'Gilbert',\n",
       "        'StoneBr', 'ClearCr', 'NPkVill', 'Blmngtn', 'BrDale', 'SWISU',\n",
       "        'Blueste'], dtype=object),\n",
       " 'Condition1': array(['Norm', 'Feedr', 'PosN', 'Artery', 'RRAe', 'RRNn', 'RRAn', 'PosA',\n",
       "        'RRNe'], dtype=object),\n",
       " 'Condition2': array(['Norm', 'Artery', 'RRNn', 'Feedr', 'PosN', 'PosA', 'RRAn', 'RRAe'],\n",
       "       dtype=object),\n",
       " 'BldgType': array(['1Fam', '2fmCon', 'Duplex', 'TwnhsE', 'Twnhs'], dtype=object),\n",
       " 'HouseStyle': array(['2Story', '1Story', '1.5Fin', '1.5Unf', 'SFoyer', 'SLvl', '2.5Unf',\n",
       "        '2.5Fin'], dtype=object),\n",
       " 'RoofStyle': array(['Gable', 'Hip', 'Gambrel', 'Mansard', 'Flat', 'Shed'], dtype=object),\n",
       " 'RoofMatl': array(['CompShg', 'WdShngl', 'Metal', 'WdShake', 'Membran', 'Tar&Grv',\n",
       "        'Roll', 'ClyTile'], dtype=object),\n",
       " 'Exterior1st': array(['VinylSd', 'MetalSd', 'Wd Sdng', 'HdBoard', 'BrkFace', 'WdShing',\n",
       "        'CemntBd', 'Plywood', 'AsbShng', 'Stucco', 'BrkComm', 'AsphShn',\n",
       "        'Stone', 'ImStucc', 'CBlock'], dtype=object),\n",
       " 'Exterior2nd': array(['VinylSd', 'MetalSd', 'Wd Shng', 'HdBoard', 'Plywood', 'Wd Sdng',\n",
       "        'CmentBd', 'BrkFace', 'Stucco', 'AsbShng', 'Brk Cmn', 'ImStucc',\n",
       "        'AsphShn', 'Stone', 'Other', 'CBlock'], dtype=object),\n",
       " 'MasVnrType': array(['BrkFace', nan, 'Stone', 'BrkCmn'], dtype=object),\n",
       " 'ExterQual': array(['Gd', 'TA', 'Ex', 'Fa'], dtype=object),\n",
       " 'ExterCond': array(['TA', 'Gd', 'Fa', 'Po', 'Ex'], dtype=object),\n",
       " 'Foundation': array(['PConc', 'CBlock', 'BrkTil', 'Wood', 'Slab', 'Stone'], dtype=object),\n",
       " 'BsmtQual': array(['Gd', 'TA', 'Ex', nan, 'Fa'], dtype=object),\n",
       " 'BsmtCond': array(['TA', 'Gd', nan, 'Fa', 'Po'], dtype=object),\n",
       " 'BsmtExposure': array(['No', 'Gd', 'Mn', 'Av', nan], dtype=object),\n",
       " 'BsmtFinType1': array(['GLQ', 'ALQ', 'Unf', 'Rec', 'BLQ', nan, 'LwQ'], dtype=object),\n",
       " 'BsmtFinType2': array(['Unf', 'BLQ', nan, 'ALQ', 'Rec', 'LwQ', 'GLQ'], dtype=object),\n",
       " 'Heating': array(['GasA', 'GasW', 'Grav', 'Wall', 'OthW', 'Floor'], dtype=object),\n",
       " 'HeatingQC': array(['Ex', 'Gd', 'TA', 'Fa', 'Po'], dtype=object),\n",
       " 'CentralAir': array(['Y', 'N'], dtype=object),\n",
       " 'Electrical': array(['SBrkr', 'FuseF', 'FuseA', 'FuseP', 'Mix', nan], dtype=object),\n",
       " 'KitchenQual': array(['Gd', 'TA', 'Ex', 'Fa'], dtype=object),\n",
       " 'Functional': array(['Typ', 'Min1', 'Maj1', 'Min2', 'Mod', 'Maj2', 'Sev'], dtype=object),\n",
       " 'FireplaceQu': array([nan, 'TA', 'Gd', 'Fa', 'Ex', 'Po'], dtype=object),\n",
       " 'GarageType': array(['Attchd', 'Detchd', 'BuiltIn', 'CarPort', nan, 'Basment', '2Types'],\n",
       "       dtype=object),\n",
       " 'GarageFinish': array(['RFn', 'Unf', 'Fin', nan], dtype=object),\n",
       " 'GarageQual': array(['TA', 'Fa', 'Gd', nan, 'Ex', 'Po'], dtype=object),\n",
       " 'GarageCond': array(['TA', 'Fa', nan, 'Gd', 'Po', 'Ex'], dtype=object),\n",
       " 'PavedDrive': array(['Y', 'N', 'P'], dtype=object),\n",
       " 'PoolQC': array([nan, 'Ex', 'Fa', 'Gd'], dtype=object),\n",
       " 'Fence': array([nan, 'MnPrv', 'GdWo', 'GdPrv', 'MnWw'], dtype=object),\n",
       " 'MiscFeature': array([nan, 'Shed', 'Gar2', 'Othr', 'TenC'], dtype=object),\n",
       " 'SaleType': array(['WD', 'New', 'COD', 'ConLD', 'ConLI', 'CWD', 'ConLw', 'Con', 'Oth'],\n",
       "       dtype=object),\n",
       " 'SaleCondition': array(['Normal', 'Abnorml', 'Partial', 'AdjLand', 'Alloca', 'Family'],\n",
       "       dtype=object)}"
      ]
     },
     "execution_count": 9,
     "metadata": {},
     "output_type": "execute_result"
    }
   ],
   "source": [
    "un_count={col:df[col].unique()for col in df.columns}\n",
    "un_count"
   ]
  }
 ],
 "metadata": {
  "kernelspec": {
   "display_name": "Python 3",
   "language": "python",
   "name": "python3"
  },
  "language_info": {
   "codemirror_mode": {
    "name": "ipython",
    "version": 3
   },
   "file_extension": ".py",
   "mimetype": "text/x-python",
   "name": "python",
   "nbconvert_exporter": "python",
   "pygments_lexer": "ipython3",
   "version": "3.10.6"
  },
  "orig_nbformat": 4
 },
 "nbformat": 4,
 "nbformat_minor": 2
}
