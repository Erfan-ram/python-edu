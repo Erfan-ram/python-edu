{
 "cells": [
  {
   "cell_type": "code",
   "execution_count": null,
   "metadata": {},
   "outputs": [],
   "source": [
    "from sklearn.impute import SimpleImputer\n",
    "import numpy as np"
   ]
  },
  {
   "attachments": {},
   "cell_type": "markdown",
   "metadata": {},
   "source": [
    "filling with the mean / median / frequent "
   ]
  },
  {
   "cell_type": "code",
   "execution_count": null,
   "metadata": {},
   "outputs": [],
   "source": [
    "\n",
    "# Create example data with missing values\n",
    "X = np.array([[1, 2, np.nan], [3, np.nan, 4], [5, 6, 7]])\n",
    "\n",
    "# Define imputer with mean strategy\n",
    "imp_mean = SimpleImputer(missing_values=np.nan, strategy='mean')\n",
    "\n",
    "# Fit imputer to the data\n",
    "imp_mean.fit(X)\n",
    "\n",
    "# Transform the data\n",
    "X_imp = imp_mean.transform(X)\n",
    "print(X_imp)\n"
   ]
  },
  {
   "cell_type": "code",
   "execution_count": null,
   "metadata": {},
   "outputs": [],
   "source": [
    "# Create example data with missing values\n",
    "Y = np.array([[1, 2, np.nan], [3, np.nan, 4], [5, 6, 7]])\n",
    "\n",
    "# Define imputer with median strategy\n",
    "imp_median = SimpleImputer(missing_values=np.nan, strategy='median')\n",
    "\n",
    "# Fit imputer to the data\n",
    "imp_median.fit(Y)\n",
    "\n",
    "# Transform the data\n",
    "Y_imp = imp_median.transform(Y)\n",
    "print(Y_imp)"
   ]
  },
  {
   "cell_type": "code",
   "execution_count": null,
   "metadata": {},
   "outputs": [],
   "source": [
    "from sklearn.impute import SimpleImputer\n",
    "import numpy as np\n",
    "\n",
    "# Create example data with missing values\n",
    "Z = np.array([[1, 2, np.nan], [3, np.nan, 4], [5, 6, 7]])\n",
    "\n",
    "# Define imputer with most frequent strategy\n",
    "imp_freq = SimpleImputer(missing_values=np.nan, strategy='most_frequent')\n",
    "\n",
    "# Fit imputer to the data\n",
    "imp_freq.fit(Z)\n",
    "\n",
    "# Transform the data\n",
    "Z_imp = imp_freq.transform(Z)\n",
    "print(Z_imp)"
   ]
  }
 ],
 "metadata": {
  "kernelspec": {
   "display_name": "Python 3",
   "language": "python",
   "name": "python3"
  },
  "language_info": {
   "codemirror_mode": {
    "name": "ipython",
    "version": 3
   },
   "file_extension": ".py",
   "mimetype": "text/x-python",
   "name": "python",
   "nbconvert_exporter": "python",
   "pygments_lexer": "ipython3",
   "version": "3.10.6"
  },
  "orig_nbformat": 4
 },
 "nbformat": 4,
 "nbformat_minor": 2
}
