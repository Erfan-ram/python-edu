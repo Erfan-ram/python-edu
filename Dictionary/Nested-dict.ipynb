{
 "cells": [
  {
   "attachments": {},
   "cell_type": "markdown",
   "metadata": {},
   "source": [
    "## Nesting with Dictionaries"
   ]
  },
  {
   "cell_type": "code",
   "execution_count": null,
   "metadata": {},
   "outputs": [],
   "source": [
    "example = {'name': 'Erfan', 'sex': 'boy',\n",
    "           'parents': {'mother': 'fatemeh', 'father': 'mohamadreza', },\n",
    "           'learned programming': ['c++', 'python', 'verilog']}\n"
   ]
  },
  {
   "cell_type": "code",
   "execution_count": null,
   "metadata": {},
   "outputs": [],
   "source": [
    "example['name']\n"
   ]
  },
  {
   "cell_type": "code",
   "execution_count": null,
   "metadata": {},
   "outputs": [],
   "source": [
    "example['parents']['mother']"
   ]
  },
  {
   "cell_type": "code",
   "execution_count": null,
   "metadata": {},
   "outputs": [],
   "source": [
    "example['learned programming'][1].upper()"
   ]
  },
  {
   "cell_type": "code",
   "execution_count": null,
   "metadata": {},
   "outputs": [],
   "source": [
    "\" - \".join(example['learned programming'])"
   ]
  },
  {
   "attachments": {},
   "cell_type": "markdown",
   "metadata": {},
   "source": [
    "## print Nested dictionaries "
   ]
  },
  {
   "cell_type": "code",
   "execution_count": 2,
   "metadata": {},
   "outputs": [],
   "source": [
    "people = {'father': {'Name': 'John', 'Age': '27', 'Genfer': 'Male'},\n",
    "          'mother': {'Name': 'Marie', 'Age': '22', 'Genfer': 'Female'}}"
   ]
  },
  {
   "cell_type": "code",
   "execution_count": 6,
   "metadata": {},
   "outputs": [
    {
     "name": "stdout",
     "output_type": "stream",
     "text": [
      "your father\n",
      "\tName is John\n",
      "\tAge is 27\n",
      "\tSex is Male\n",
      "\n",
      "your mother\n",
      "\tName is Marie\n",
      "\tAge is 22\n",
      "\tSex is Female\n",
      "\n"
     ]
    }
   ],
   "source": [
    "for key, value in people.items():\n",
    "    print(f\"your {key} :\")\n",
    "    for options, information in value.items():\n",
    "        print(f\"\\t\\t{options} is {information}\")\n",
    "\n",
    "    print(\"\")\n"
   ]
  },
  {
   "cell_type": "code",
   "execution_count": null,
   "metadata": {},
   "outputs": [],
   "source": []
  }
 ],
 "metadata": {
  "kernelspec": {
   "display_name": "Python 3",
   "language": "python",
   "name": "python3"
  },
  "language_info": {
   "codemirror_mode": {
    "name": "ipython",
    "version": 3
   },
   "file_extension": ".py",
   "mimetype": "text/x-python",
   "name": "python",
   "nbconvert_exporter": "python",
   "pygments_lexer": "ipython3",
   "version": "3.10.6"
  },
  "orig_nbformat": 4
 },
 "nbformat": 4,
 "nbformat_minor": 2
}
