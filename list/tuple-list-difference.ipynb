{
 "cells": [
  {
   "attachments": {},
   "cell_type": "markdown",
   "metadata": {},
   "source": [
    "difference between list and tuple\n",
    "\n",
    "# Lists are mutable\tTuples are immutable"
   ]
  },
  {
   "cell_type": "code",
   "execution_count": null,
   "metadata": {},
   "outputs": [],
   "source": [
    "# Creating a List with\n",
    "# the use of Numbers\n",
    "# code to test that tuples are mutable\n",
    "List = [1, 2, 4, 4, 3, 3, 3, 6, 5]\n",
    "print(\"Original list \", List)\n",
    "\n",
    "List[3] = 77\n",
    "print(\"Example to show mutability \", List)\n",
    "\n",
    "# code to test that tuples are immutable\n",
    "\n",
    "tuple1 = (0, 1, 2, 3)\n",
    "tuple1[0] = 4\n",
    "print(tuple1)\n"
   ]
  },
  {
   "attachments": {},
   "cell_type": "markdown",
   "metadata": {},
   "source": [
    "# memory efficient"
   ]
  },
  {
   "cell_type": "code",
   "execution_count": null,
   "metadata": {},
   "outputs": [],
   "source": [
    "import sys, platform\n",
    "a_list = []\n",
    "a_tuple = ()\n",
    "a_list = [\"Geeks\", \"For\", \"Geeks\"]\n",
    "a_tuple = (\"Geeks\", \"For\", \"Geeks\")\n",
    "print(sys.getsizeof(a_list))\n",
    "print(sys.getsizeof(a_tuple))"
   ]
  },
  {
   "attachments": {},
   "cell_type": "markdown",
   "metadata": {},
   "source": [
    "# Test whether implication of iterations is comparatively faster in tuples"
   ]
  },
  {
   "cell_type": "code",
   "execution_count": null,
   "metadata": {},
   "outputs": [],
   "source": [
    "import time\n",
    " \n",
    "l=list(range(100000001))\n",
    "t=tuple(range(100000001))\n",
    " \n",
    "start = time.time_ns()\n",
    "for i in range(len(t)):\n",
    "    a = t[i]\n",
    "end = time.time_ns()\n",
    "print(\"Total lookup time for Tuple: \", end - start)\n",
    " \n",
    "start = time.time_ns()\n",
    "for i in range(len(l)):\n",
    "    a = l[i]\n",
    "end = time.time_ns()\n",
    "print(\"Total lookup time for LIST: \", end - start)"
   ]
  }
 ],
 "metadata": {
  "kernelspec": {
   "display_name": "Python 3",
   "language": "python",
   "name": "python3"
  },
  "language_info": {
   "codemirror_mode": {
    "name": "ipython",
    "version": 3
   },
   "file_extension": ".py",
   "mimetype": "text/x-python",
   "name": "python",
   "nbconvert_exporter": "python",
   "pygments_lexer": "ipython3",
   "version": "3.10.6"
  },
  "orig_nbformat": 4,
  "vscode": {
   "interpreter": {
    "hash": "916dbcbb3f70747c44a77c7bcd40155683ae19c65e1c03b4aa3499c5328201f1"
   }
  }
 },
 "nbformat": 4,
 "nbformat_minor": 2
}
