{
 "cells": [
  {
   "cell_type": "code",
   "execution_count": null,
   "metadata": {},
   "outputs": [],
   "source": [
    "def dynamic_programming(number):\n",
    "    f = [0, 1]\n",
    "\n",
    "    for i in range(2, number+1):\n",
    "        f.append(f[i-1] + f[i-2])\n",
    "    return f[number]"
   ]
  }
 ],
 "metadata": {
  "language_info": {
   "name": "python"
  },
  "orig_nbformat": 4
 },
 "nbformat": 4,
 "nbformat_minor": 2
}
